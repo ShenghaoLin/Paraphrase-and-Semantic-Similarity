{
 "cells": [
  {
   "cell_type": "code",
   "execution_count": 38,
   "metadata": {},
   "outputs": [],
   "source": [
    "import argparse\n",
    "import torch\n",
    "import torch.nn as nn\n",
    "import torch.nn.functional as F\n",
    "import pickle\n",
    "from model_reg import *\n",
    "\n",
    "import matplotlib.pyplot as plt\n",
    "device = torch.device(\"cuda:0\" if torch.cuda.is_available() else \"cpu\")"
   ]
  },
  {
   "cell_type": "code",
   "execution_count": 39,
   "metadata": {},
   "outputs": [],
   "source": [
    "OUTPUT_PATH50c = '../output/PIT2015_02_attention_50d_cls.output'\n",
    "OUTPUT_PATH200c = '../output/PIT2015_03_attention_200d_cls.output'\n",
    "OUTPUT_PATH50r = '../output/PIT2015_04_attention_50d_reg.output'\n",
    "OUTPUT_PATH200r = '../output/PIT2015_05_attention_200d_reg.output'"
   ]
  },
  {
   "cell_type": "code",
   "execution_count": 43,
   "metadata": {},
   "outputs": [],
   "source": [
    "HISTORY = '50d_reg.his'\n",
    "f=open(HISTORY, 'rb')\n",
    "loss_his=pickle.load(f)\n",
    "acc_his=pickle.load(f)\n",
    "f.close()"
   ]
  },
  {
   "cell_type": "code",
   "execution_count": 44,
   "metadata": {},
   "outputs": [
    {
     "data": {
      "image/png": "[encoded data removed]",
      "text/plain": [
       "<Figure size 432x288 with 1 Axes>"
      ]
     },
     "metadata": {},
     "output_type": "display_data"
    }
   ],
   "source": [
    "plt.plot(acc_his)\n",
    "plt.show()"
   ]
  },
  {
   "cell_type": "code",
   "execution_count": 45,
   "metadata": {},
   "outputs": [],
   "source": [
    "def run_model(data_path, output_path, model, reg=False):\n",
    "    with open(data_path, 'rb') as f:\n",
    "        x0 = pickle.load(f)\n",
    "        x1 = pickle.load(f)\n",
    "\n",
    "    model = model.to(device)\n",
    "    x0 = x0.to(device)\n",
    "    x1 = x1.to(device)\n",
    "    y_pred = model(x0, x1)\n",
    "    if not reg:\n",
    "        y_pred = F.softmax(y_pred, dim=1)\n",
    "        y_pred = torch.argmax(y_pred, dim=1)\n",
    "    print(y_pred.size())\n",
    "    \n",
    "    with open(output_path, 'w') as f:\n",
    "        for y in y_pred:\n",
    "            if not reg:\n",
    "                if y>=3:\n",
    "                    f.write('true\\t')\n",
    "                else:\n",
    "                    f.write('false\\t')\n",
    "                f.write(str(float(y.item())/5) + '\\n')\n",
    "            else:\n",
    "                if y>=0.5:\n",
    "                    f.write('true\\t')\n",
    "                else:\n",
    "                    f.write('false\\t')\n",
    "                f.write(str(y.item()) + '\\n')"
   ]
  },
  {
   "cell_type": "code",
   "execution_count": 46,
   "metadata": {},
   "outputs": [],
   "source": [
    "def make_model(d_model, max_len, N=6, d_ff=256, h=5, dropout=0.1):\n",
    "    \"Helper: Construct a model from hyperparameters.\"\n",
    "    c = copy.deepcopy\n",
    "    attn = MultiHeadedAttention(h, d_model)\n",
    "    ff = PositionwiseFeedForward(d_model, d_ff, dropout)\n",
    "    position = PositionalEncoding(d_model, dropout)\n",
    "    model = AttentionEnc(\n",
    "        Encoder(EncoderLayer(d_model, c(attn), c(ff), dropout), N),\n",
    "        c(position), d_model, max_len)\n",
    "        \n",
    "    \n",
    "    # This was important from their code. \n",
    "    # Initialize parameters with Glorot / fan_avg.\n",
    "    for p in model.parameters():\n",
    "        if p.dim() > 1:\n",
    "            nn.init.xavier_uniform(p)\n",
    "    return model"
   ]
  },
  {
   "cell_type": "code",
   "execution_count": 73,
   "metadata": {},
   "outputs": [
    {
     "name": "stderr",
     "output_type": "stream",
     "text": [
      "/home/ubuntu/anaconda3/envs/pytorch_p36/lib/python3.6/site-packages/ipykernel/__main__.py:16: UserWarning: nn.init.xavier_uniform is now deprecated in favor of nn.init.xavier_uniform_.\n"
     ]
    },
    {
     "name": "stdout",
     "output_type": "stream",
     "text": [
      "torch.Size([972, 1])\n"
     ]
    }
   ],
   "source": [
    "d_model=200\n",
    "MODEL_PATH = 'models/reg_attention_200d_epoch_23.torch'\n",
    "DATA_PATH = '../data/test_data_'+str(d_model)+'d.pkl'\n",
    "model = make_model(d_model, 18)\n",
    "model.load_state_dict(torch.load(MODEL_PATH))\n",
    "run_model(DATA_PATH, OUTPUT_PATH200r, model, reg=True)"
   ]
  },
  {
   "cell_type": "code",
   "execution_count": null,
   "metadata": {},
   "outputs": [],
   "source": []
  },
  {
   "cell_type": "code",
   "execution_count": null,
   "metadata": {},
   "outputs": [],
   "source": []
  }
 ],
 "metadata": {
  "kernelspec": {
   "display_name": "Environment (conda_pytorch_p36)",
   "language": "python",
   "name": "conda_pytorch_p36"
  },
  "language_info": {
   "codemirror_mode": {
    "name": "ipython",
    "version": 3
   },
   "file_extension": ".py",
   "mimetype": "text/x-python",
   "name": "python",
   "nbconvert_exporter": "python",
   "pygments_lexer": "ipython3",
   "version": "3.6.5"
  }
 },
 "nbformat": 4,
 "nbformat_minor": 2
}
